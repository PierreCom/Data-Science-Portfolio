{
 "cells": [
  {
   "cell_type": "markdown",
   "metadata": {},
   "source": [
    "# Summarizing US Employment Data\n",
    "Data sets:\n",
    "- all-ages.csv : Employment data in US by College major for all ages\n",
    "- recent-grads.csv : Employment data in US by College major for recent college graduates only\n",
    "\n",
    "The Goal is to Analyse these data."
   ]
  },
  {
   "cell_type": "code",
   "execution_count": 6,
   "metadata": {
    "collapsed": true
   },
   "outputs": [],
   "source": [
    "import pandas as pd"
   ]
  },
  {
   "cell_type": "code",
   "execution_count": 7,
   "metadata": {
    "collapsed": false
   },
   "outputs": [
    {
     "data": {
      "text/html": [
       "<div>\n",
       "<table border=\"1\" class=\"dataframe\">\n",
       "  <thead>\n",
       "    <tr style=\"text-align: right;\">\n",
       "      <th></th>\n",
       "      <th>Major_code</th>\n",
       "      <th>Major</th>\n",
       "      <th>Major_category</th>\n",
       "      <th>Total</th>\n",
       "      <th>Employed</th>\n",
       "      <th>Employed_full_time_year_round</th>\n",
       "      <th>Unemployed</th>\n",
       "      <th>Unemployment_rate</th>\n",
       "      <th>Median</th>\n",
       "      <th>P25th</th>\n",
       "      <th>P75th</th>\n",
       "    </tr>\n",
       "  </thead>\n",
       "  <tbody>\n",
       "    <tr>\n",
       "      <th>0</th>\n",
       "      <td>1100</td>\n",
       "      <td>GENERAL AGRICULTURE</td>\n",
       "      <td>Agriculture &amp; Natural Resources</td>\n",
       "      <td>128148</td>\n",
       "      <td>90245</td>\n",
       "      <td>74078</td>\n",
       "      <td>2423</td>\n",
       "      <td>0.026147</td>\n",
       "      <td>50000</td>\n",
       "      <td>34000</td>\n",
       "      <td>80000.0</td>\n",
       "    </tr>\n",
       "    <tr>\n",
       "      <th>1</th>\n",
       "      <td>1101</td>\n",
       "      <td>AGRICULTURE PRODUCTION AND MANAGEMENT</td>\n",
       "      <td>Agriculture &amp; Natural Resources</td>\n",
       "      <td>95326</td>\n",
       "      <td>76865</td>\n",
       "      <td>64240</td>\n",
       "      <td>2266</td>\n",
       "      <td>0.028636</td>\n",
       "      <td>54000</td>\n",
       "      <td>36000</td>\n",
       "      <td>80000.0</td>\n",
       "    </tr>\n",
       "    <tr>\n",
       "      <th>2</th>\n",
       "      <td>1102</td>\n",
       "      <td>AGRICULTURAL ECONOMICS</td>\n",
       "      <td>Agriculture &amp; Natural Resources</td>\n",
       "      <td>33955</td>\n",
       "      <td>26321</td>\n",
       "      <td>22810</td>\n",
       "      <td>821</td>\n",
       "      <td>0.030248</td>\n",
       "      <td>63000</td>\n",
       "      <td>40000</td>\n",
       "      <td>98000.0</td>\n",
       "    </tr>\n",
       "    <tr>\n",
       "      <th>3</th>\n",
       "      <td>1103</td>\n",
       "      <td>ANIMAL SCIENCES</td>\n",
       "      <td>Agriculture &amp; Natural Resources</td>\n",
       "      <td>103549</td>\n",
       "      <td>81177</td>\n",
       "      <td>64937</td>\n",
       "      <td>3619</td>\n",
       "      <td>0.042679</td>\n",
       "      <td>46000</td>\n",
       "      <td>30000</td>\n",
       "      <td>72000.0</td>\n",
       "    </tr>\n",
       "    <tr>\n",
       "      <th>4</th>\n",
       "      <td>1104</td>\n",
       "      <td>FOOD SCIENCE</td>\n",
       "      <td>Agriculture &amp; Natural Resources</td>\n",
       "      <td>24280</td>\n",
       "      <td>17281</td>\n",
       "      <td>12722</td>\n",
       "      <td>894</td>\n",
       "      <td>0.049188</td>\n",
       "      <td>62000</td>\n",
       "      <td>38500</td>\n",
       "      <td>90000.0</td>\n",
       "    </tr>\n",
       "  </tbody>\n",
       "</table>\n",
       "</div>"
      ],
      "text/plain": [
       "   Major_code                                  Major  \\\n",
       "0        1100                    GENERAL AGRICULTURE   \n",
       "1        1101  AGRICULTURE PRODUCTION AND MANAGEMENT   \n",
       "2        1102                 AGRICULTURAL ECONOMICS   \n",
       "3        1103                        ANIMAL SCIENCES   \n",
       "4        1104                           FOOD SCIENCE   \n",
       "\n",
       "                    Major_category   Total  Employed  \\\n",
       "0  Agriculture & Natural Resources  128148     90245   \n",
       "1  Agriculture & Natural Resources   95326     76865   \n",
       "2  Agriculture & Natural Resources   33955     26321   \n",
       "3  Agriculture & Natural Resources  103549     81177   \n",
       "4  Agriculture & Natural Resources   24280     17281   \n",
       "\n",
       "   Employed_full_time_year_round  Unemployed  Unemployment_rate  Median  \\\n",
       "0                          74078        2423           0.026147   50000   \n",
       "1                          64240        2266           0.028636   54000   \n",
       "2                          22810         821           0.030248   63000   \n",
       "3                          64937        3619           0.042679   46000   \n",
       "4                          12722         894           0.049188   62000   \n",
       "\n",
       "   P25th    P75th  \n",
       "0  34000  80000.0  \n",
       "1  36000  80000.0  \n",
       "2  40000  98000.0  \n",
       "3  30000  72000.0  \n",
       "4  38500  90000.0  "
      ]
     },
     "execution_count": 7,
     "metadata": {},
     "output_type": "execute_result"
    }
   ],
   "source": [
    "all_ages = pd.read_csv(\"./Data/all-ages.csv\")\n",
    "all_ages.head(5)"
   ]
  },
  {
   "cell_type": "code",
   "execution_count": 18,
   "metadata": {
    "collapsed": false
   },
   "outputs": [
    {
     "data": {
      "text/html": [
       "<div>\n",
       "<table border=\"1\" class=\"dataframe\">\n",
       "  <thead>\n",
       "    <tr style=\"text-align: right;\">\n",
       "      <th></th>\n",
       "      <th>ShareWomen</th>\n",
       "      <th>Median</th>\n",
       "      <th>P25th</th>\n",
       "    </tr>\n",
       "  </thead>\n",
       "  <tbody>\n",
       "    <tr>\n",
       "      <th>0</th>\n",
       "      <td>0.120564</td>\n",
       "      <td>110000</td>\n",
       "      <td>95000</td>\n",
       "    </tr>\n",
       "    <tr>\n",
       "      <th>1</th>\n",
       "      <td>0.101852</td>\n",
       "      <td>75000</td>\n",
       "      <td>55000</td>\n",
       "    </tr>\n",
       "    <tr>\n",
       "      <th>2</th>\n",
       "      <td>0.153037</td>\n",
       "      <td>73000</td>\n",
       "      <td>50000</td>\n",
       "    </tr>\n",
       "    <tr>\n",
       "      <th>3</th>\n",
       "      <td>0.107313</td>\n",
       "      <td>70000</td>\n",
       "      <td>43000</td>\n",
       "    </tr>\n",
       "    <tr>\n",
       "      <th>4</th>\n",
       "      <td>0.341631</td>\n",
       "      <td>65000</td>\n",
       "      <td>50000</td>\n",
       "    </tr>\n",
       "    <tr>\n",
       "      <th>5</th>\n",
       "      <td>0.144967</td>\n",
       "      <td>65000</td>\n",
       "      <td>50000</td>\n",
       "    </tr>\n",
       "    <tr>\n",
       "      <th>6</th>\n",
       "      <td>0.535714</td>\n",
       "      <td>62000</td>\n",
       "      <td>53000</td>\n",
       "    </tr>\n",
       "    <tr>\n",
       "      <th>7</th>\n",
       "      <td>0.441356</td>\n",
       "      <td>62000</td>\n",
       "      <td>31500</td>\n",
       "    </tr>\n",
       "    <tr>\n",
       "      <th>8</th>\n",
       "      <td>0.139793</td>\n",
       "      <td>60000</td>\n",
       "      <td>48000</td>\n",
       "    </tr>\n",
       "    <tr>\n",
       "      <th>9</th>\n",
       "      <td>0.437847</td>\n",
       "      <td>60000</td>\n",
       "      <td>45000</td>\n",
       "    </tr>\n",
       "    <tr>\n",
       "      <th>10</th>\n",
       "      <td>0.199413</td>\n",
       "      <td>60000</td>\n",
       "      <td>45000</td>\n",
       "    </tr>\n",
       "    <tr>\n",
       "      <th>11</th>\n",
       "      <td>0.196450</td>\n",
       "      <td>60000</td>\n",
       "      <td>42000</td>\n",
       "    </tr>\n",
       "    <tr>\n",
       "      <th>12</th>\n",
       "      <td>0.119559</td>\n",
       "      <td>60000</td>\n",
       "      <td>36000</td>\n",
       "    </tr>\n",
       "    <tr>\n",
       "      <th>13</th>\n",
       "      <td>0.310820</td>\n",
       "      <td>60000</td>\n",
       "      <td>39000</td>\n",
       "    </tr>\n",
       "    <tr>\n",
       "      <th>14</th>\n",
       "      <td>0.183985</td>\n",
       "      <td>58000</td>\n",
       "      <td>25000</td>\n",
       "    </tr>\n",
       "    <tr>\n",
       "      <th>15</th>\n",
       "      <td>0.320784</td>\n",
       "      <td>57100</td>\n",
       "      <td>40000</td>\n",
       "    </tr>\n",
       "    <tr>\n",
       "      <th>16</th>\n",
       "      <td>0.343473</td>\n",
       "      <td>57000</td>\n",
       "      <td>37900</td>\n",
       "    </tr>\n",
       "    <tr>\n",
       "      <th>17</th>\n",
       "      <td>0.252960</td>\n",
       "      <td>56000</td>\n",
       "      <td>36000</td>\n",
       "    </tr>\n",
       "    <tr>\n",
       "      <th>18</th>\n",
       "      <td>0.350442</td>\n",
       "      <td>54000</td>\n",
       "      <td>38000</td>\n",
       "    </tr>\n",
       "    <tr>\n",
       "      <th>19</th>\n",
       "      <td>0.236063</td>\n",
       "      <td>54000</td>\n",
       "      <td>50000</td>\n",
       "    </tr>\n",
       "  </tbody>\n",
       "</table>\n",
       "</div>"
      ],
      "text/plain": [
       "    ShareWomen  Median  P25th\n",
       "0     0.120564  110000  95000\n",
       "1     0.101852   75000  55000\n",
       "2     0.153037   73000  50000\n",
       "3     0.107313   70000  43000\n",
       "4     0.341631   65000  50000\n",
       "5     0.144967   65000  50000\n",
       "6     0.535714   62000  53000\n",
       "7     0.441356   62000  31500\n",
       "8     0.139793   60000  48000\n",
       "9     0.437847   60000  45000\n",
       "10    0.199413   60000  45000\n",
       "11    0.196450   60000  42000\n",
       "12    0.119559   60000  36000\n",
       "13    0.310820   60000  39000\n",
       "14    0.183985   58000  25000\n",
       "15    0.320784   57100  40000\n",
       "16    0.343473   57000  37900\n",
       "17    0.252960   56000  36000\n",
       "18    0.350442   54000  38000\n",
       "19    0.236063   54000  50000"
      ]
     },
     "execution_count": 18,
     "metadata": {},
     "output_type": "execute_result"
    }
   ],
   "source": [
    "recent_grads = pd.read_csv(\"./Data/recent-grads.csv\")\n",
    "recent_grads[[\"ShareWomen\",\"Median\",\"P25th\"]].head(20)"
   ]
  },
  {
   "cell_type": "markdown",
   "metadata": {},
   "source": [
    "# Number of people by Major_Category"
   ]
  },
  {
   "cell_type": "code",
   "execution_count": 58,
   "metadata": {
    "collapsed": false
   },
   "outputs": [
    {
     "name": "stdout",
     "output_type": "stream",
     "text": [
      "Index([u'Engineering', u'Education', u'Humanities & Liberal Arts',\n",
      "       u'Biology & Life Science', u'Business', u'Health',\n",
      "       u'Computers & Mathematics', u'Physical Sciences',\n",
      "       u'Agriculture & Natural Resources', u'Psychology & Social Work',\n",
      "       u'Social Science', u'Arts', u'Industrial Arts & Consumer Services',\n",
      "       u'Law & Public Policy', u'Communications & Journalism',\n",
      "       u'Interdisciplinary'],\n",
      "      dtype='object')\n",
      "{'Arts': 357130, 'Psychology & Social Work': 481007, 'Business': 1302376, 'Industrial Arts & Consumer Services': 229792, 'Computers & Mathematics': 299008, 'Agriculture & Natural Resources': 79981, 'Interdisciplinary': 12296, 'Humanities & Liberal Arts': 713468, 'Engineering': 537583, 'Biology & Life Science': 453862, 'Health': 463230, 'Law & Public Policy': 179107, 'Physical Sciences': 185479, 'Education': 559129, 'Communications & Journalism': 392601, 'Social Science': 529966}\n"
     ]
    }
   ],
   "source": [
    "%config IPCompleter.greedy=True\n",
    "\n",
    "print(all_ages['Major_category'].value_counts().index)\n",
    "\n",
    "#all_ages_major_categories = dict()\n",
    "recent_grads_major_categories = dict()\n",
    "\n",
    "def calculate_major_cat_totals(df):\n",
    "    cats = df['Major_category'].value_counts().index\n",
    "    counts_dictionary = dict()\n",
    "\n",
    "    for c in cats:\n",
    "        major_df = df[df[\"Major_category\"] == c]\n",
    "        total = major_df[\"Total\"].sum(axis=0)\n",
    "        counts_dictionary[c] = total\n",
    "    return counts_dictionary\n",
    "\n",
    "all_ages_major_categories = calculate_major_cat_totals(all_ages)\n",
    "recent_grads_major_categories = calculate_major_cat_totals(recent_grads)\n",
    "print(all_ages_major_categories)"
   ]
  },
  {
   "cell_type": "markdown",
   "metadata": {},
   "source": [
    "# Low Wage Jobs Rates"
   ]
  },
  {
   "cell_type": "code",
   "execution_count": 79,
   "metadata": {
    "collapsed": false
   },
   "outputs": [
    {
     "name": "stdout",
     "output_type": "stream",
     "text": [
      "0.0985254607612\n"
     ]
    }
   ],
   "source": [
    "%config IPCompleter.greedy=True\n",
    "\n",
    "count_low_rage = recent_grads[\"Low_wage_jobs\"].sum()\n",
    "count_total = recent_grads[\"Total\"].sum()\n",
    "low_wage_percent = float(count_low_rage) / float(count_total)\n",
    "print(low_wage_percent)"
   ]
  },
  {
   "cell_type": "markdown",
   "metadata": {},
   "source": [
    "9.85% of graduates took on a low wage job after finishing college."
   ]
  },
  {
   "cell_type": "markdown",
   "metadata": {},
   "source": [
    "# Count Number of Majors in a Major Category"
   ]
  },
  {
   "cell_type": "code",
   "execution_count": 81,
   "metadata": {
    "collapsed": false
   },
   "outputs": [
    {
     "name": "stdout",
     "output_type": "stream",
     "text": [
      "Engineering                            29\n",
      "Education                              16\n",
      "Humanities & Liberal Arts              15\n",
      "Biology & Life Science                 14\n",
      "Business                               13\n",
      "Health                                 12\n",
      "Computers & Mathematics                11\n",
      "Physical Sciences                      10\n",
      "Agriculture & Natural Resources        10\n",
      "Psychology & Social Work                9\n",
      "Social Science                          9\n",
      "Arts                                    8\n",
      "Industrial Arts & Consumer Services     7\n",
      "Law & Public Policy                     5\n",
      "Communications & Journalism             4\n",
      "Interdisciplinary                       1\n",
      "Name: Major_category, dtype: int64\n"
     ]
    }
   ],
   "source": [
    "print(all_ages['Major_category'].value_counts())"
   ]
  },
  {
   "cell_type": "markdown",
   "metadata": {},
   "source": [
    "# Unemployment Rate"
   ]
  },
  {
   "cell_type": "code",
   "execution_count": 147,
   "metadata": {
    "collapsed": false
   },
   "outputs": [
    {
     "name": "stdout",
     "output_type": "stream",
     "text": [
      "43\n",
      "128\n"
     ]
    }
   ],
   "source": [
    "majors = recent_grads['Major'].value_counts().index\n",
    "\n",
    "recent_grads_lower_unemp_count = 0\n",
    "all_ages_lower_unemp_count = 0\n",
    "\n",
    "\n",
    "for maj in majors:\n",
    "    recent_df = recent_grads[recent_grads['Major'] == maj]\n",
    "    all_ages_df = all_ages[all_ages['Major'] == maj]\n",
    "    \n",
    "    recent_grads_unemp_rate = recent_df['Unemployment_rate'].values[0]\n",
    "    all_ages_unemp_rate = all_ages_df['Unemployment_rate'].values[0]\n",
    "    \n",
    "    if recent_grads_unemp_rate < all_ages_unemp_rate:\n",
    "        \n",
    "        recent_grads_lower_unemp_count += 1\n",
    "    elif recent_grads_unemp_rate > all_ages_unemp_rate:\n",
    "        all_ages_lower_unemp_count += 1\n",
    "    \n",
    "    \n",
    "print(recent_grads_lower_unemp_count)\n",
    "print(all_ages_lower_unemp_count)\n",
    "    "
   ]
  },
  {
   "cell_type": "markdown",
   "metadata": {},
   "source": [
    "Recent graduates who studied 43 of the 173 majors ended up having lower unemployment rates than the general population."
   ]
  }
 ],
 "metadata": {
  "kernelspec": {
   "display_name": "Python 2",
   "language": "python",
   "name": "python2"
  },
  "language_info": {
   "codemirror_mode": {
    "name": "ipython",
    "version": 2
   },
   "file_extension": ".py",
   "mimetype": "text/x-python",
   "name": "python",
   "nbconvert_exporter": "python",
   "pygments_lexer": "ipython2",
   "version": "2.7.11"
  }
 },
 "nbformat": 4,
 "nbformat_minor": 0
}
